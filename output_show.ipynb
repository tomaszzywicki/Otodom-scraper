{
 "cells": [
  {
   "cell_type": "code",
   "execution_count": 26,
   "metadata": {},
   "outputs": [],
   "source": [
    "import pandas as pd\n",
    "import numpy as np"
   ]
  },
  {
   "cell_type": "code",
   "execution_count": 37,
   "metadata": {},
   "outputs": [
    {
     "data": {
      "text/html": [
       "<div>\n",
       "<style scoped>\n",
       "    .dataframe tbody tr th:only-of-type {\n",
       "        vertical-align: middle;\n",
       "    }\n",
       "\n",
       "    .dataframe tbody tr th {\n",
       "        vertical-align: top;\n",
       "    }\n",
       "\n",
       "    .dataframe thead th {\n",
       "        text-align: right;\n",
       "    }\n",
       "</style>\n",
       "<table border=\"1\" class=\"dataframe\">\n",
       "  <thead>\n",
       "    <tr style=\"text-align: right;\">\n",
       "      <th></th>\n",
       "      <th>id</th>\n",
       "      <th>tytul</th>\n",
       "      <th>cena</th>\n",
       "      <th>czynsz</th>\n",
       "      <th>kaucja</th>\n",
       "      <th>adres</th>\n",
       "      <th>powierzchnia</th>\n",
       "      <th>pokoje</th>\n",
       "      <th>ogrzewanie</th>\n",
       "      <th>piętro</th>\n",
       "      <th>...</th>\n",
       "      <th>winda</th>\n",
       "      <th>rodzaj_zabudowy</th>\n",
       "      <th>okna</th>\n",
       "      <th>bezpieczeństwo</th>\n",
       "      <th>wyposażenie</th>\n",
       "      <th>opis</th>\n",
       "      <th>dodano</th>\n",
       "      <th>aktualizacja</th>\n",
       "      <th>link</th>\n",
       "      <th>scraped_date</th>\n",
       "    </tr>\n",
       "  </thead>\n",
       "  <tbody>\n",
       "    <tr>\n",
       "      <th>0</th>\n",
       "      <td>65806843</td>\n",
       "      <td>Dwupokojowe mieszkanie w miasteczku Wilanów</td>\n",
       "      <td>5 900 zł</td>\n",
       "      <td>1 100 zł</td>\n",
       "      <td>10 000 zł</td>\n",
       "      <td>Powsinek, Wilanów, Warszawa, mazowieckie</td>\n",
       "      <td>63.0</td>\n",
       "      <td>2</td>\n",
       "      <td>miejskie</td>\n",
       "      <td>parter/4</td>\n",
       "      <td>...</td>\n",
       "      <td>tak</td>\n",
       "      <td>apartamentowiec</td>\n",
       "      <td>drewniane</td>\n",
       "      <td>teren zamknięty monitoring / ochrona</td>\n",
       "      <td>zmywarka lodówka meble piekarnik kuchenka tele...</td>\n",
       "      <td>Dwupokojowe mieszkanie do wynajęcia w miastecz...</td>\n",
       "      <td>21.08.2024</td>\n",
       "      <td>21.08.2024</td>\n",
       "      <td>https://www.otodom.pl/pl/oferta/dwupokojowe-mi...</td>\n",
       "      <td>2024-08-21</td>\n",
       "    </tr>\n",
       "  </tbody>\n",
       "</table>\n",
       "<p>1 rows × 24 columns</p>\n",
       "</div>"
      ],
      "text/plain": [
       "         id                                        tytul      cena    czynsz  \\\n",
       "0  65806843  Dwupokojowe mieszkanie w miasteczku Wilanów  5 900 zł  1 100 zł   \n",
       "\n",
       "      kaucja                                     adres  powierzchnia  pokoje  \\\n",
       "0  10 000 zł  Powsinek, Wilanów, Warszawa, mazowieckie          63.0       2   \n",
       "\n",
       "  ogrzewanie    piętro  ... winda  rodzaj_zabudowy       okna  \\\n",
       "0   miejskie  parter/4  ...   tak  apartamentowiec  drewniane   \n",
       "\n",
       "                         bezpieczeństwo  \\\n",
       "0  teren zamknięty monitoring / ochrona   \n",
       "\n",
       "                                         wyposażenie  \\\n",
       "0  zmywarka lodówka meble piekarnik kuchenka tele...   \n",
       "\n",
       "                                                opis      dodano aktualizacja  \\\n",
       "0  Dwupokojowe mieszkanie do wynajęcia w miastecz...  21.08.2024   21.08.2024   \n",
       "\n",
       "                                                link scraped_date  \n",
       "0  https://www.otodom.pl/pl/oferta/dwupokojowe-mi...   2024-08-21  \n",
       "\n",
       "[1 rows x 24 columns]"
      ]
     },
     "execution_count": 37,
     "metadata": {},
     "output_type": "execute_result"
    }
   ],
   "source": [
    "df = pd.read_csv('output/output.csv')\n",
    "df.head(1)"
   ]
  },
  {
   "cell_type": "code",
   "execution_count": 30,
   "metadata": {},
   "outputs": [
    {
     "data": {
      "text/plain": [
       "0      NaN\n",
       "1      NaN\n",
       "2      NaN\n",
       "3      NaN\n",
       "4      NaN\n",
       "        ..\n",
       "3995   NaN\n",
       "3996   NaN\n",
       "3997   NaN\n",
       "3998   NaN\n",
       "3999   NaN\n",
       "Name: dodatkowe_informacje, Length: 4000, dtype: float64"
      ]
     },
     "execution_count": 30,
     "metadata": {},
     "output_type": "execute_result"
    }
   ],
   "source": [
    "df['dodatkowe_informacje']"
   ]
  }
 ],
 "metadata": {
  "kernelspec": {
   "display_name": "Python 3",
   "language": "python",
   "name": "python3"
  },
  "language_info": {
   "codemirror_mode": {
    "name": "ipython",
    "version": 3
   },
   "file_extension": ".py",
   "mimetype": "text/x-python",
   "name": "python",
   "nbconvert_exporter": "python",
   "pygments_lexer": "ipython3",
   "version": "3.11.9"
  }
 },
 "nbformat": 4,
 "nbformat_minor": 2
}
